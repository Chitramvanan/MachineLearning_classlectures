{
 "cells": [
  {
   "cell_type": "markdown",
   "metadata": {},
   "source": [
    "# Gradient Descent Optimization\n",
    "\n",
    "In the [breast cancer demo](../logistic/breast_cancer.ipynb), we used the `sklearn` built-in `LogisticRegression` class to find the weights for the logistic regression problem.   The `fit` routine in that class has an *optimizer* to select the weights to best match the data.  To understand how that optimizer works, in this demo, we will build a very simple gradient descent optimizer from scratch.  You will learn to:\n",
    "* Compute the gradients of a simple loss function and implement the gradient calculations in python\n",
    "* Implement a simple gradient descent optimizer\n",
    "* Visualize the effect of the learning rate in gradient descent\n",
    "* Implement an adaptive learning rate algorithm"
   ]
  },
  {
   "cell_type": "markdown",
   "metadata": {},
   "source": [
    "## Loading the Breast Cancer Data\n",
    "\n",
    "We first load the standard packages."
   ]
  },
  {
   "cell_type": "code",
   "execution_count": 1,
   "metadata": {},
   "outputs": [],
   "source": [
    "import numpy as np\n",
    "import matplotlib.pyplot as plt\n",
    "import pandas as pd\n",
    "%matplotlib inline\n",
    "from sklearn import preprocessing"
   ]
  },
  {
   "cell_type": "markdown",
   "metadata": {},
   "source": [
    "We next load the data from the [breast cancer demo](../logistic/breast_cancer.ipynb).  "
   ]
  },
  {
   "cell_type": "code",
   "execution_count": 2,
   "metadata": {},
   "outputs": [
    {
     "data": {
      "text/html": [
       "<div>\n",
       "<style scoped>\n",
       "    .dataframe tbody tr th:only-of-type {\n",
       "        vertical-align: middle;\n",
       "    }\n",
       "\n",
       "    .dataframe tbody tr th {\n",
       "        vertical-align: top;\n",
       "    }\n",
       "\n",
       "    .dataframe thead th {\n",
       "        text-align: right;\n",
       "    }\n",
       "</style>\n",
       "<table border=\"1\" class=\"dataframe\">\n",
       "  <thead>\n",
       "    <tr style=\"text-align: right;\">\n",
       "      <th></th>\n",
       "      <th>id</th>\n",
       "      <th>thick</th>\n",
       "      <th>size_unif</th>\n",
       "      <th>shape_unif</th>\n",
       "      <th>marg</th>\n",
       "      <th>cell_size</th>\n",
       "      <th>bare</th>\n",
       "      <th>chrom</th>\n",
       "      <th>normal</th>\n",
       "      <th>mit</th>\n",
       "      <th>class</th>\n",
       "    </tr>\n",
       "  </thead>\n",
       "  <tbody>\n",
       "    <tr>\n",
       "      <th>0</th>\n",
       "      <td>1000025</td>\n",
       "      <td>5</td>\n",
       "      <td>1</td>\n",
       "      <td>1</td>\n",
       "      <td>1</td>\n",
       "      <td>2</td>\n",
       "      <td>1.0</td>\n",
       "      <td>3</td>\n",
       "      <td>1</td>\n",
       "      <td>1</td>\n",
       "      <td>2</td>\n",
       "    </tr>\n",
       "    <tr>\n",
       "      <th>1</th>\n",
       "      <td>1002945</td>\n",
       "      <td>5</td>\n",
       "      <td>4</td>\n",
       "      <td>4</td>\n",
       "      <td>5</td>\n",
       "      <td>7</td>\n",
       "      <td>10.0</td>\n",
       "      <td>3</td>\n",
       "      <td>2</td>\n",
       "      <td>1</td>\n",
       "      <td>2</td>\n",
       "    </tr>\n",
       "    <tr>\n",
       "      <th>2</th>\n",
       "      <td>1015425</td>\n",
       "      <td>3</td>\n",
       "      <td>1</td>\n",
       "      <td>1</td>\n",
       "      <td>1</td>\n",
       "      <td>2</td>\n",
       "      <td>2.0</td>\n",
       "      <td>3</td>\n",
       "      <td>1</td>\n",
       "      <td>1</td>\n",
       "      <td>2</td>\n",
       "    </tr>\n",
       "    <tr>\n",
       "      <th>3</th>\n",
       "      <td>1016277</td>\n",
       "      <td>6</td>\n",
       "      <td>8</td>\n",
       "      <td>8</td>\n",
       "      <td>1</td>\n",
       "      <td>3</td>\n",
       "      <td>4.0</td>\n",
       "      <td>3</td>\n",
       "      <td>7</td>\n",
       "      <td>1</td>\n",
       "      <td>2</td>\n",
       "    </tr>\n",
       "    <tr>\n",
       "      <th>4</th>\n",
       "      <td>1017023</td>\n",
       "      <td>4</td>\n",
       "      <td>1</td>\n",
       "      <td>1</td>\n",
       "      <td>3</td>\n",
       "      <td>2</td>\n",
       "      <td>1.0</td>\n",
       "      <td>3</td>\n",
       "      <td>1</td>\n",
       "      <td>1</td>\n",
       "      <td>2</td>\n",
       "    </tr>\n",
       "  </tbody>\n",
       "</table>\n",
       "</div>"
      ],
      "text/plain": [
       "        id  thick  size_unif  shape_unif  marg  cell_size  bare  chrom  \\\n",
       "0  1000025      5          1           1     1          2   1.0      3   \n",
       "1  1002945      5          4           4     5          7  10.0      3   \n",
       "2  1015425      3          1           1     1          2   2.0      3   \n",
       "3  1016277      6          8           8     1          3   4.0      3   \n",
       "4  1017023      4          1           1     3          2   1.0      3   \n",
       "\n",
       "   normal  mit  class  \n",
       "0       1    1      2  \n",
       "1       2    1      2  \n",
       "2       1    1      2  \n",
       "3       7    1      2  \n",
       "4       1    1      2  "
      ]
     },
     "execution_count": 2,
     "metadata": {},
     "output_type": "execute_result"
    }
   ],
   "source": [
    "names = ['id','thick','size_unif','shape_unif','marg','cell_size','bare',\n",
    "         'chrom','normal','mit','class']\n",
    "df = pd.read_csv('https://archive.ics.uci.edu/ml/machine-learning-databases/' +\n",
    "                 'breast-cancer-wisconsin/breast-cancer-wisconsin.data',\n",
    "                names=names,na_values='?',header=None)\n",
    "df = df.dropna()\n",
    "df.head()"
   ]
  },
  {
   "cell_type": "markdown",
   "metadata": {},
   "source": [
    "As in the breast cancer demo, we create a data matrix `X` of various features of the breast cancer sample.  The response vector `y` is a binary indicating if each sample is benign or malignant.  "
   ]
  },
  {
   "cell_type": "code",
   "execution_count": 3,
   "metadata": {},
   "outputs": [],
   "source": [
    "# Get the predictors\n",
    "xnames = names[1:-1]\n",
    "X = np.array(df[xnames])\n",
    "\n",
    "# Get the response.  Convert to a zero-one indicator \n",
    "yraw = np.array(df['class'])\n",
    "BEN_VAL = 2   # value in the 'class' label for benign samples\n",
    "MAL_VAL = 4   # value in the 'class' label for malignant samples\n",
    "y = (yraw == MAL_VAL).astype(int)"
   ]
  },
  {
   "cell_type": "markdown",
   "metadata": {},
   "source": [
    "We want to learn the classification rule to predict `y` from `X`.  To this end, we first split the data into training and test and then scale."
   ]
  },
  {
   "cell_type": "code",
   "execution_count": 4,
   "metadata": {},
   "outputs": [],
   "source": [
    "from sklearn.model_selection import train_test_split\n",
    "from sklearn.preprocessing import StandardScaler\n",
    "\n",
    "# Split into training and test\n",
    "Xtr, Xts, ytr, yts = train_test_split(X,y, test_size=0.30)\n",
    "\n",
    "# Scale data\n",
    "scal = StandardScaler()\n",
    "Xtr1 = scal.fit_transform(Xtr)\n",
    "Xts1 = scal.transform(Xts)"
   ]
  },
  {
   "cell_type": "markdown",
   "metadata": {},
   "source": [
    "Just as a reference, let's see the test accuracy on this split using sklearn's built-in optimizer."
   ]
  },
  {
   "cell_type": "code",
   "execution_count": 5,
   "metadata": {},
   "outputs": [
    {
     "name": "stdout",
     "output_type": "stream",
     "text": [
      "Accuracy on test data = 0.960976\n"
     ]
    }
   ],
   "source": [
    "# Fit the model\n",
    "from sklearn import linear_model\n",
    "reg = linear_model.LogisticRegression(C=1e5)\n",
    "reg.fit(Xtr1, ytr)\n",
    "\n",
    "# Measure the test error\n",
    "yhat = reg.predict(Xts1)\n",
    "acc = np.mean(yhat == yts)\n",
    "print(\"Accuracy on test data = %f\" % acc)"
   ]
  },
  {
   "cell_type": "markdown",
   "metadata": {},
   "source": [
    "## Computing the Gradient and Loss Function\n",
    "\n",
    "Recall that training a logistic function means finding a weight vector `w` for the classification rule:\n",
    "\n",
    "    P(y=1|x,w) = 1/(1+\\exp(-z)), z = w[0] + w[1]*x[0] + ... + w[k]x[k-1]\n",
    "    \n",
    "From the class notes in logistic regression, we saw that the weight vector can be found by minimizing  the negative log likelihood.  The negative log likelihood is called the *loss* function.  For the logistic regression problem, the loss function simplifies to:\n",
    "\n",
    "\n",
    "    f(w) = \\sum_i -y[i]z[i] + ln(1+exp(z[i])),  z[i] = w[0] + w[1]X[i,0] + ... + w[k]X[i,k-1].\n",
    "    \n",
    "We first write a function to compute `f` and its gradient `feval`."
   ]
  },
  {
   "cell_type": "code",
   "execution_count": 6,
   "metadata": {},
   "outputs": [],
   "source": [
    "def feval(w,X,y):\n",
    "    \"\"\"\n",
    "    Compute the loss and gradient given w,X,y\n",
    "    \"\"\"\n",
    "    # Construct transform matrix\n",
    "    n = X.shape[0]\n",
    "    A = np.column_stack((np.ones(n,), X))\n",
    "\n",
    "    # The loss is the binary cross entropy\n",
    "    z = A.dot(w)\n",
    "    py = 1/(1+np.exp(-z))\n",
    "    f = np.sum((1-y)*z - np.log(py))\n",
    "\n",
    "    # Gradient\n",
    "    df_dz = py-y\n",
    "    fgrad = A.T.dot(df_dz)\n",
    "    return f, fgrad"
   ]
  },
  {
   "cell_type": "markdown",
   "metadata": {},
   "source": [
    "One issue is that the function `f(w,X,y)` depends on the parameters `X` and `y`.  Most numerical optimizers expect a function that only depends on `w`.  So, we need an alternate way to pass those parameters to the function.  There are two approaches."
   ]
  },
  {
   "cell_type": "markdown",
   "metadata": {},
   "source": [
    "### Method 1.  Use a class method\n",
    "\n",
    "One approach to pass the parameters is to implement the function as a method in a class that contains the parameters.  In the code below, we create a class `LogisticFun` where the constructor takes the parameters `X` and `y`.  Then, the class method `feval` takes a variable `w` and computes the loss and its gradient.  \n",
    "\n",
    "You can see that one benefit of using a class method is that processing that is independent of `w` can be performed in the contructor.  For example, in the code below, constructs `self.A` in the constructor.  Then this step does not need to be repeated every time the function is called."
   ]
  },
  {
   "cell_type": "code",
   "execution_count": 7,
   "metadata": {},
   "outputs": [],
   "source": [
    "class LogisticFun(object):\n",
    "    def __init__(self,X,y):\n",
    "        \"\"\"\n",
    "        Class to computes the loss and gradient for a logistic regression problem.\n",
    "        \n",
    "        The constructor takes the data matrix `X` and response vector y for training.\n",
    "        \"\"\"\n",
    "        self.X = X\n",
    "        self.y = y\n",
    "        n = X.shape[0]\n",
    "        self.A = np.column_stack((np.ones(n,), X))\n",
    "\n",
    "    def feval(self,w):\n",
    "        \"\"\"\n",
    "        Compute the loss and gradient for a given weight vector\n",
    "        \"\"\"\n",
    "        # The loss is the binary cross entropy\n",
    "        z = self.A.dot(w)\n",
    "        py = 1/(1+np.exp(-z))\n",
    "        f = np.sum((1-self.y)*z - np.log(py))\n",
    "        \n",
    "        # Gradient\n",
    "        df_dz = py-self.y\n",
    "        fgrad = self.A.T.dot(df_dz)\n",
    "        return f, fgrad"
   ]
  },
  {
   "cell_type": "markdown",
   "metadata": {},
   "source": [
    "Once we have defined the class we can create an *instance* of the class with the training data."
   ]
  },
  {
   "cell_type": "code",
   "execution_count": 8,
   "metadata": {},
   "outputs": [],
   "source": [
    "log_fun = LogisticFun(Xtr1,ytr)"
   ]
  },
  {
   "cell_type": "markdown",
   "metadata": {},
   "source": [
    "Then, we can call the method with only the value `w`."
   ]
  },
  {
   "cell_type": "code",
   "execution_count": 9,
   "metadata": {},
   "outputs": [],
   "source": [
    "# Some random point\n",
    "p = X.shape[1]+1\n",
    "w0 = np.random.randn(p)\n",
    "\n",
    "# Call the function\n",
    "f, fgrad = log_fun.feval(w0)"
   ]
  },
  {
   "cell_type": "markdown",
   "metadata": {},
   "source": [
    "### Method 2.  Using Lambda functions\n",
    "\n",
    "An alternative method is to use python `lambda` functions.  The code below creates uses the `lambda` construction to fix the parameters `X` and `y`.  A slight disadvantage of this method is that the pre-processing is less easy to separate."
   ]
  },
  {
   "cell_type": "code",
   "execution_count": 10,
   "metadata": {},
   "outputs": [],
   "source": [
    "# Create a function with X,y fixed\n",
    "feval_param = lambda w: feval(w,Xtr1,ytr)\n",
    "\n",
    "# You can now pass a parameter like w0\n",
    "f0, fgrad0 = feval_param(w0)"
   ]
  },
  {
   "cell_type": "markdown",
   "metadata": {},
   "source": [
    "### Testing the gradient\n",
    "\n",
    "Either way you create the function, it is very important to test if the gradient is correct.  This is the number one reason people's code does not work with numerical optimizers.  The simplest method is to take two points `w0` and `w1` that are close to one another and then verify that \n",
    "\n",
    "    f(w1) - f(w0) \\approx fgrad(w0).dot(w1 - w0)"
   ]
  },
  {
   "cell_type": "code",
   "execution_count": 11,
   "metadata": {},
   "outputs": [
    {
     "name": "stdout",
     "output_type": "stream",
     "text": [
      "Actual f1-f0    =   1.6964e-04\n",
      "Predicted f1-f0 =   1.6964e-04\n"
     ]
    }
   ],
   "source": [
    "# Take a random initial point\n",
    "p = X.shape[1]+1\n",
    "w0 = np.random.randn(p)\n",
    "\n",
    "# Perturb the point\n",
    "step = 1e-6\n",
    "w1 = w0 + step*np.random.randn(p)\n",
    "\n",
    "# Measure the function and gradient at w0 and w1\n",
    "f0, fgrad0 = log_fun.feval(w0)\n",
    "f1, fgrad1 = log_fun.feval(w1)\n",
    "\n",
    "# Predict the amount the function should have changed based on the gradient\n",
    "df_est = fgrad0.dot(w1-w0)\n",
    "\n",
    "# Print the two values to see if they are close\n",
    "print(\"Actual f1-f0    = %12.4e\" % (f1-f0))\n",
    "print(\"Predicted f1-f0 = %12.4e\" % df_est)"
   ]
  },
  {
   "cell_type": "markdown",
   "metadata": {},
   "source": [
    "You can see that the two agree well.  You would have got the same answer had you used the `feval` constructed in method 2."
   ]
  },
  {
   "cell_type": "markdown",
   "metadata": {},
   "source": [
    "## A Simple Gradient Descent Optimizer\n",
    "\n",
    "Now, we build a \"barebones\" gradient descent optimizer function with a fixed learning rate."
   ]
  },
  {
   "cell_type": "code",
   "execution_count": 12,
   "metadata": {},
   "outputs": [],
   "source": [
    "def grad_opt_sim(feval, winit, lr=1e-3,nit=1000):\n",
    "    \"\"\"\n",
    "    Simple gradient descent optimization\n",
    "    \n",
    "    feval:  A function that returns f, fgrad, the objective\n",
    "            function and its gradient\n",
    "    winit:  Initial estimate\n",
    "    lr:     learning rate\n",
    "    nit:    Number of iterations\n",
    "    \"\"\"\n",
    "    # Initialize\n",
    "    w0 = winit\n",
    "  \n",
    "    # Loop over iterations\n",
    "    for it in range(nit):\n",
    "\n",
    "        # Evaluate the function and gradient\n",
    "        f0, fgrad0 = feval(w0)\n",
    "\n",
    "        # Take a gradient step\n",
    "        w0 = w0 - lr*fgrad0\n",
    "\n",
    "    return w0, f0"
   ]
  },
  {
   "cell_type": "markdown",
   "metadata": {},
   "source": [
    "The above code will work, but to get a bit more insight, we can modify this code to add a history dictionary that keeps track of the loss function and values over iteration."
   ]
  },
  {
   "cell_type": "code",
   "execution_count": 13,
   "metadata": {},
   "outputs": [],
   "source": [
    "def grad_opt_simp(feval, winit, lr=1e-3,nit=1000):\n",
    "    \"\"\"\n",
    "    Simple gradient descent optimization\n",
    "    \n",
    "    feval:  A function that returns f, fgrad, the objective\n",
    "            function and its gradient\n",
    "    winit:  Initial estimate\n",
    "    lr:     learning rate\n",
    "    nit:    Number of iterations\n",
    "    \"\"\"\n",
    "    # Initialize\n",
    "    w0 = winit\n",
    "    \n",
    "    # Create history dictionary for tracking progress per iteration.\n",
    "    # This isn't necessary if you just want the final answer, but it \n",
    "    # is useful for debugging\n",
    "    hist = {'w': [], 'f': []}\n",
    "    \n",
    "    # Loop over iterations\n",
    "    for it in range(nit):\n",
    "\n",
    "        # Evaluate the function and gradient\n",
    "        f0, fgrad0 = feval(w0)\n",
    "\n",
    "        # Take a gradient step\n",
    "        w0 = w0 - lr*fgrad0\n",
    "        \n",
    "         # Save history\n",
    "        hist['f'].append(f0)\n",
    "        hist['w'].append(w0)\n",
    "\n",
    "    # Convert to numpy arrays\n",
    "    for elem in ('f', 'w'):\n",
    "        hist[elem] = np.array(hist[elem])\n",
    "    return w0, f0, hist"
   ]
  },
  {
   "cell_type": "markdown",
   "metadata": {},
   "source": [
    "We now run the gradient descent starting from a random initial condition."
   ]
  },
  {
   "cell_type": "code",
   "execution_count": 14,
   "metadata": {},
   "outputs": [
    {
     "data": {
      "text/plain": [
       "Text(0, 0.5, 'Training loss')"
      ]
     },
     "execution_count": 14,
     "metadata": {},
     "output_type": "execute_result"
    },
    {
     "data": {
      "image/png": "[encoded data removed]",
      "text/plain": [
       "<Figure size 640x480 with 1 Axes>"
      ]
     },
     "metadata": {},
     "output_type": "display_data"
    }
   ],
   "source": [
    "# Initial condition\n",
    "winit = np.random.randn(p)\n",
    "\n",
    "# Parameters\n",
    "feval = log_fun.feval\n",
    "nit = 1000\n",
    "lr = 1e-4\n",
    "\n",
    "# Run the gradient descent\n",
    "w, f0, hist = grad_opt_simp(feval, winit, lr=lr, nit=nit)\n",
    "\n",
    "# Plot the training loss\n",
    "t = np.arange(nit)+1\n",
    "plt.semilogx(t, hist['f'])\n",
    "plt.grid()\n",
    "plt.xlabel('Iteration')\n",
    "plt.ylabel('Training loss')"
   ]
  },
  {
   "cell_type": "markdown",
   "metadata": {},
   "source": [
    "We can measure the accuracy of the final estimate by creating a predict method."
   ]
  },
  {
   "cell_type": "code",
   "execution_count": 15,
   "metadata": {},
   "outputs": [
    {
     "name": "stdout",
     "output_type": "stream",
     "text": [
      "Test accuracy = 0.956098\n"
     ]
    }
   ],
   "source": [
    "def predict(X,w):\n",
    "    z = X.dot(w[1:]) + w[0]\n",
    "    yhat = (z > 0)\n",
    "    return yhat\n",
    "\n",
    "yhat = predict(Xts1,w)\n",
    "acc = np.mean(yhat == yts)\n",
    "print(\"Test accuracy = %f\" % acc)"
   ]
  },
  {
   "cell_type": "markdown",
   "metadata": {},
   "source": [
    "You will likely not get a test accuracy quite as good as the test accuracy for the `sklearn` method, although there is some variation with the train-test split.  The reason is that the learning rate was somewhat slow and we didn't yet fully converge.\n",
    "\n",
    "To see the effect of the learning rate, the code below tries different learning rates."
   ]
  },
  {
   "cell_type": "code",
   "execution_count": 16,
   "metadata": {},
   "outputs": [
    {
     "name": "stdout",
     "output_type": "stream",
     "text": [
      "lr=    1.00e-05  Test accuracy = 0.926829\n",
      "lr=    1.00e-04  Test accuracy = 0.956098\n",
      "lr=    1.00e-03  Test accuracy = 0.960976\n"
     ]
    },
    {
     "data": {
      "text/plain": [
       "Text(0, 0.5, 'Training loss')"
      ]
     },
     "execution_count": 16,
     "metadata": {},
     "output_type": "execute_result"
    },
    {
     "data": {
      "image/png": "[encoded data removed]",
      "text/plain": [
       "<Figure size 640x480 with 1 Axes>"
      ]
     },
     "metadata": {},
     "output_type": "display_data"
    }
   ],
   "source": [
    "# Learning rate values to test\n",
    "lr_test = [1e-5,1e-4,1e-3]\n",
    "ntest = len(lr_test)\n",
    "\n",
    "# Strings for the legend\n",
    "leg_str = []\n",
    "losshist = []\n",
    "\n",
    "for i, lr in enumerate(lr_test):\n",
    "    # Run the optimizer\n",
    "    w, f0, hist = grad_opt_simp(feval, winit, lr=lr, nit=nit)    \n",
    "    losshist.append(hist['f'])\n",
    "    \n",
    "    # Plot the results\n",
    "    t = np.arange(nit)+1\n",
    "    plt.semilogx(t, hist['f'])\n",
    "    leg_str.append(\"lr=%12.2e\" % lr)\n",
    "    \n",
    "    # Measure the test accuracy\n",
    "    yhat = predict(Xts1,w)\n",
    "    acc = np.mean(yhat == yts)\n",
    "    print(\"lr=%12.2e  Test accuracy = %f\" % (lr, acc))\n",
    "    \n",
    "plt.grid()\n",
    "plt.legend(leg_str, loc='upper right')\n",
    "plt.xlabel('Iteration')\n",
    "plt.ylabel('Training loss')"
   ]
  },
  {
   "cell_type": "markdown",
   "metadata": {},
   "source": [
    "You can see that increase the learning rate more to speed up the convergence time.  Again, although it depends on the train-test split, generally you will also get higher test accuracy with the faster learning rate.  But, you cannot increase the learning rate too high as the optimization may go unstable."
   ]
  },
  {
   "cell_type": "markdown",
   "metadata": {},
   "source": [
    "## Adaptive Step Size\n",
    "\n",
    "The above example shows that gradient descent is sensitive to the step size.  We now consider a slight variant of gradient descent with an adaptive step-size using the Armijo rule in class."
   ]
  },
  {
   "cell_type": "code",
   "execution_count": 17,
   "metadata": {},
   "outputs": [],
   "source": [
    "def grad_opt_adapt(feval, winit, nit=1000, lr_init=1e-3, lr_min=1e-6):\n",
    "    \"\"\"\n",
    "    Gradient descent optimization with adaptive step size\n",
    "    \n",
    "    feval:  A function that returns f, fgrad, the objective\n",
    "            function and its gradient\n",
    "    winit:  Initial estimate\n",
    "    nit:    Number of iterations\n",
    "    lr_init:     Initial learning rate\n",
    "    lr_min:      Minimum learning rate\n",
    "    \"\"\"\n",
    "    \n",
    "    # Set initial point\n",
    "    w0 = winit\n",
    "    f0, fgrad0 = feval(w0)\n",
    "    lr = lr_init\n",
    "    \n",
    "    # Create history dictionary for tracking progress per iteration.\n",
    "    # This isn't necessary if you just want the final answer, but it \n",
    "    # is useful for debugging\n",
    "    hist = {'lr': [], 'w': [], 'f': []}\n",
    "\n",
    "    for it in range(nit):\n",
    "\n",
    "        # Take a gradient step\n",
    "        w1 = w0 - lr*fgrad0\n",
    "\n",
    "        # Evaluate the test point by computing the objective function, f1,\n",
    "        # at the test point and the predicted decrease, df_est\n",
    "        f1, fgrad1 = feval(w1)\n",
    "        df_est = fgrad0.dot(w1-w0)\n",
    "        \n",
    "        # Check if test point passes the Armijo condition\n",
    "        alpha = 0.5\n",
    "        if (f1-f0 < alpha*df_est) and (f1 < f0):\n",
    "            # If descent is sufficient, accept the point and increase the\n",
    "            # learning rate\n",
    "            lr = lr*2\n",
    "            f0 = f1\n",
    "            fgrad0 = fgrad1\n",
    "            w0 = w1\n",
    "        else:\n",
    "            # Otherwise, decrease the learning rate\n",
    "            lr = lr/2\n",
    "            lr = np.maximum(lr, lr_min)\n",
    "            \n",
    "        # Save history\n",
    "        hist['f'].append(f0)\n",
    "        hist['lr'].append(lr)\n",
    "        hist['w'].append(w0)\n",
    "\n",
    "    # Convert to numpy arrays\n",
    "    for elem in ('f', 'lr', 'w'):\n",
    "        hist[elem] = np.array(hist[elem])\n",
    "    return w0, f0, hist\n"
   ]
  },
  {
   "cell_type": "markdown",
   "metadata": {},
   "source": [
    "We can now run the new optimizer."
   ]
  },
  {
   "cell_type": "code",
   "execution_count": 18,
   "metadata": {},
   "outputs": [
    {
     "data": {
      "image/png": "[encoded data removed]",
      "text/plain": [
       "<Figure size 640x480 with 2 Axes>"
      ]
     },
     "metadata": {},
     "output_type": "display_data"
    }
   ],
   "source": [
    "winit = np.random.randn(p)\n",
    "nit = 1000\n",
    "w, f0, hist = grad_opt_adapt(feval, winit, nit=nit)\n",
    "\n",
    "t = np.arange(nit)\n",
    "plt.subplot(2,1,1)\n",
    "plt.semilogx(t, hist['f'])\n",
    "plt.grid()\n",
    "plt.ylabel('Loss')\n",
    "\n",
    "plt.subplot(2,1,2)\n",
    "plt.loglog(t, hist['lr'])\n",
    "plt.grid()\n",
    "plt.ylabel('Learning rate')\n",
    "plt.xlabel('Iteration')\n",
    "\n",
    "plt.tight_layout()"
   ]
  },
  {
   "cell_type": "markdown",
   "metadata": {},
   "source": [
    "Finally we measure the accuracy."
   ]
  },
  {
   "cell_type": "code",
   "execution_count": 19,
   "metadata": {},
   "outputs": [
    {
     "name": "stdout",
     "output_type": "stream",
     "text": [
      "Test accuracy = 0.960976\n"
     ]
    }
   ],
   "source": [
    "yhat = predict(Xts1,w)\n",
    "acc = np.mean(yhat == yts)\n",
    "print(\"Test accuracy = %f\" % acc)"
   ]
  }
 ],
 "metadata": {
  "anaconda-cloud": {},
  "kernelspec": {
   "display_name": "Python 3 (ipykernel)",
   "language": "python",
   "name": "python3"
  },
  "language_info": {
   "codemirror_mode": {
    "name": "ipython",
    "version": 3
   },
   "file_extension": ".py",
   "mimetype": "text/x-python",
   "name": "python",
   "nbconvert_exporter": "python",
   "pygments_lexer": "ipython3",
   "version": "3.10.6"
  }
 },
 "nbformat": 4,
 "nbformat_minor": 4
}
